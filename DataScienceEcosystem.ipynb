{
 "cells": [
  {
   "cell_type": "markdown",
   "id": "acb29ead-49fc-4302-b10b-b32fd5b46325",
   "metadata": {},
   "source": [
    "# H1: Data Science Tools and Ecosystem"
   ]
  },
  {
   "cell_type": "markdown",
   "id": "ea5c449d-b8a0-49a0-86b3-1e20392321ce",
   "metadata": {},
   "source": [
    "In this notebook, Data Science Tools and Ecosystem are summarized"
   ]
  },
  {
   "cell_type": "markdown",
   "id": "215d368b-1292-4642-916b-0ad104703df5",
   "metadata": {},
   "source": [
    "***Objectives:***\n",
    "- To familiarise with different languages of data science\n",
    "- Hand on Experience on various data science tools\n",
    "- Work with Python,R and Tableau"
   ]
  },
  {
   "cell_type": "markdown",
   "id": "b31c643a-7155-47cb-87bb-a91b120c4ac5",
   "metadata": {
    "tags": []
   },
   "source": [
    "Some of the popular languages that Data Scientists use are:"
   ]
  },
  {
   "cell_type": "markdown",
   "id": "a33e07d6-72fc-408a-a398-109efcb7db39",
   "metadata": {},
   "source": [
    "1. Python\n",
    "2. Julia\n",
    "3. R\n"
   ]
  },
  {
   "cell_type": "markdown",
   "id": "1b7e87f9-1c3e-48e9-a276-857cd66fa517",
   "metadata": {
    "tags": []
   },
   "source": [
    "Some of the commonly used libraries used by Data Scientists include:\n",
    "    1. numpy\n",
    "    2. scipy\n",
    "    3. pandas"
   ]
  },
  {
   "cell_type": "markdown",
   "id": "1f44b2e9-826c-41cb-abbf-353eebbbf92b",
   "metadata": {},
   "source": [
    "| Data Science Tools |\n",
    "| ---- |\n",
    "|Python |\n",
    "|R |\n",
    "|Jupyter Notebook |\n",
    "|Tableau |"
   ]
  },
  {
   "cell_type": "markdown",
   "id": "faaa1e55-7fa2-4031-88ce-3c37b6c4070a",
   "metadata": {},
   "source": [
    "### H3: Below are a few examples of evaluating arithmetic expressions in Python"
   ]
  },
  {
   "cell_type": "code",
   "execution_count": 3,
   "id": "b9fc8374-a35c-48a3-aac9-93691d3430a8",
   "metadata": {
    "tags": []
   },
   "outputs": [
    {
     "data": {
      "text/plain": [
       "17"
      ]
     },
     "execution_count": 3,
     "metadata": {},
     "output_type": "execute_result"
    }
   ],
   "source": [
    "(3*4)+5\n",
    "## This a simple arithmetic expression to mutiply then add integers"
   ]
  },
  {
   "cell_type": "code",
   "execution_count": 4,
   "id": "2db36a90-0bf5-45df-8034-277d06b269f1",
   "metadata": {
    "tags": []
   },
   "outputs": [
    {
     "data": {
      "text/plain": [
       "3.3333333333333335"
      ]
     },
     "execution_count": 4,
     "metadata": {},
     "output_type": "execute_result"
    }
   ],
   "source": [
    "#This will convert 200 minutes to hours by diving by 60\n",
    "200/60"
   ]
  },
  {
   "cell_type": "markdown",
   "id": "15150f45-183e-4aca-b2ab-465698256efb",
   "metadata": {},
   "source": [
    "## H2:Author : Harini Mohan"
   ]
  },
  {
   "cell_type": "code",
   "execution_count": null,
   "id": "cec707a8-0814-4a6d-a754-175df9a012e9",
   "metadata": {},
   "outputs": [],
   "source": []
  }
 ],
 "metadata": {
  "kernelspec": {
   "display_name": "Python",
   "language": "python",
   "name": "conda-env-python-py"
  },
  "language_info": {
   "codemirror_mode": {
    "name": "ipython",
    "version": 3
   },
   "file_extension": ".py",
   "mimetype": "text/x-python",
   "name": "python",
   "nbconvert_exporter": "python",
   "pygments_lexer": "ipython3",
   "version": "3.7.12"
  }
 },
 "nbformat": 4,
 "nbformat_minor": 5
}
